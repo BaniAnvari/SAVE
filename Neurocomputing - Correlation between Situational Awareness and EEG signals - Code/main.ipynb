{
 "cells": [
  {
   "cell_type": "code",
   "execution_count": null,
   "metadata": {},
   "outputs": [],
   "source": [
    "import pebl_lib as pl\n",
    "import pickle\n",
    "import pandas as pd"
   ]
  },
  {
   "cell_type": "markdown",
   "metadata": {},
   "source": [
    "# Only run these cells if all code shall be rerun"
   ]
  },
  {
   "cell_type": "markdown",
   "metadata": {},
   "source": [
    "Read PEBL and EEG files"
   ]
  },
  {
   "cell_type": "code",
   "execution_count": null,
   "metadata": {},
   "outputs": [],
   "source": [
    "pebl = pl.PeblAll()\n",
    "eeg = pl.EegAllPreparing(pebl)"
   ]
  },
  {
   "cell_type": "markdown",
   "metadata": {},
   "source": [
    "Get ICA and PCA Matrices for all data (tutorial has been removed)"
   ]
  },
  {
   "cell_type": "code",
   "execution_count": null,
   "metadata": {},
   "outputs": [],
   "source": [
    "alldata = pd.DataFrame()\n",
    "for i in range(len(eeg.participant)):\n",
    "    for j in range(1,4):\n",
    "        for k in range(len(eeg.participant[i].level[j])):\n",
    "            alldata = alldata.append(eeg.participant[i].level[j][k]['eeg_data'])\n",
    "\n",
    "peeg = pl.ProcessEeg(alldata)\n",
    "peeg.ica()\n",
    "peeg.pca()\n",
    "\n",
    "spat_struct = {'scaler':peeg.scaler, 'pca':peeg.pca, 'ica':peeg.ica}\n",
    "\n",
    "pickle.dump(alldata,open(\"alldata.pkl\" , \"wb\"))\n",
    "pickle.dump(eeg,open(\"eeg.pkl\", \"wb\"))\n",
    "pickle.dump(pebl,open(\"pebl.pkl\", \"wb\"))\n",
    "pickle.dump(peeg,open(\"peeg.pkl\", \"wb\"))\n",
    "with open('spat_struct.pkl', 'wb') as handle:\n",
    "            pickle.dump(spat_struct, handle, \n",
    "                protocol=pickle.HIGHEST_PROTOCOL)"
   ]
  },
  {
   "cell_type": "markdown",
   "metadata": {},
   "source": [
    "Checkpoint: All data, EEG, PEBL, Processed EEG, and the spatial structor have been saved in .pkl files"
   ]
  },
  {
   "cell_type": "markdown",
   "metadata": {},
   "source": [
    "Sidenote: spatial_structers.pkl is included, which is an old version which takes into account the tutorial part"
   ]
  },
  {
   "cell_type": "code",
   "execution_count": null,
   "metadata": {},
   "outputs": [],
   "source": [
    "eeg = pickle.load(open(\"eeg.pkl\", \"rb\"))\n",
    "spat_struct = pickle.load(open(\"spatial_structers.pkl\", \"rb\"))"
   ]
  },
  {
   "cell_type": "markdown",
   "metadata": {},
   "source": [
    "create features out of input data"
   ]
  },
  {
   "cell_type": "code",
   "execution_count": null,
   "metadata": {
    "scrolled": true
   },
   "outputs": [],
   "source": [
    "features = pl.FeatureExtractor(eeg, spat_struct) \n",
    "features.extract_features()\n",
    "fft = features.fft_features.T.reset_index(drop=True)\n",
    "psd = features.psd_features.T.reset_index(drop=True)\n",
    "with open('features.pkl', 'wb') as handle:\n",
    "            pickle.dump({'fft':fft, 'psd':psd}, handle, \n",
    "                protocol=pickle.HIGHEST_PROTOCOL)"
   ]
  },
  {
   "cell_type": "markdown",
   "metadata": {},
   "source": [
    "Checkpoint: Features have been saved"
   ]
  },
  {
   "cell_type": "code",
   "execution_count": null,
   "metadata": {},
   "outputs": [],
   "source": [
    "features = pickle.load(open(\"features.pkl\", \"rb\"))"
   ]
  },
  {
   "cell_type": "markdown",
   "metadata": {},
   "source": [
    "detect and remove outliers"
   ]
  },
  {
   "cell_type": "code",
   "execution_count": null,
   "metadata": {},
   "outputs": [],
   "source": [
    "imputed = {}\n",
    "removals = ['max', '0', 'nan', 'mean']\n",
    "for technique in ['fft', 'psd']:\n",
    "    for removal in removals:\n",
    "        imputed.update({technique + '_' + removal: pl.Outlier(features, technique, removal)})\n",
    "\n",
    "removed = {key: imputed[key].newfeatures for key in imputed.keys()}\n",
    "removed.update({'fft_raw': features['fft'].T[:-4].T,\n",
    "                    'psd_raw': features['psd'].T[:-4].T,\n",
    "                    'label': features['psd']['Label']})\n",
    "pickle.dump(removed, open(\"removed.pkl\", \"wb\"))"
   ]
  },
  {
   "cell_type": "markdown",
   "metadata": {},
   "source": [
    "Checkpoint: Outliers have been removed"
   ]
  },
  {
   "cell_type": "code",
   "execution_count": null,
   "metadata": {},
   "outputs": [],
   "source": [
    "removed = pd.read_pickle('removed.pkl')"
   ]
  },
  {
   "cell_type": "markdown",
   "metadata": {},
   "source": [
    "Apply boosted trees and iterate over different hyperparameters"
   ]
  },
  {
   "cell_type": "code",
   "execution_count": null,
   "metadata": {},
   "outputs": [],
   "source": [
    "bt = pl.BoostedTrees(removed)"
   ]
  },
  {
   "cell_type": "code",
   "execution_count": null,
   "metadata": {},
   "outputs": [],
   "source": [
    "bt.allresults['psd_raw'].loc[\n",
    "    bt.allresults['psd_raw']['Test Accuracy'].idxmax()\n",
    "]"
   ]
  },
  {
   "cell_type": "markdown",
   "metadata": {},
   "source": [
    "Apply random forest and iterate over n_estimators"
   ]
  },
  {
   "cell_type": "code",
   "execution_count": null,
   "metadata": {
    "scrolled": true
   },
   "outputs": [],
   "source": [
    "rf = pl.RandomForest(removed)"
   ]
  },
  {
   "cell_type": "code",
   "execution_count": null,
   "metadata": {},
   "outputs": [],
   "source": [
    "rf.allresults['psd_raw'].loc[\n",
    "    rf.allresults['psd_raw']['Test Accuracy'].idxmax()\n",
    "]"
   ]
  },
  {
   "cell_type": "code",
   "execution_count": null,
   "metadata": {},
   "outputs": [],
   "source": [
    "with open('results.pkl', 'wb') as handle:\n",
    "            pickle.dump({'bt':bt, 'rf':rf}, handle, \n",
    "                protocol=pickle.HIGHEST_PROTOCOL)"
   ]
  },
  {
   "cell_type": "code",
   "execution_count": null,
   "metadata": {},
   "outputs": [],
   "source": []
  },
  {
   "cell_type": "code",
   "execution_count": null,
   "metadata": {},
   "outputs": [],
   "source": [
    "for key, t in bt.allresults.items():\n",
    "    print(key + \": \" + str(max(t['Test Accuracy'])))"
   ]
  },
  {
   "cell_type": "code",
   "execution_count": null,
   "metadata": {},
   "outputs": [],
   "source": [
    "for key, t in rf.allresults.items():\n",
    "    print(key + \": \" + str(max(t['Test Accuracy'])))"
   ]
  },
  {
   "cell_type": "markdown",
   "metadata": {},
   "source": [
    "for reference: old values were\n",
    "\n",
    "Train accuracy 0.881140350877193 <br>\n",
    "Accuracy 0.660245183887916 <br>\n",
    "Precision 0.671875 <br>\n",
    "Recall 0.7914110429447853 <br>"
   ]
  },
  {
   "cell_type": "code",
   "execution_count": null,
   "metadata": {},
   "outputs": [],
   "source": [
    "X = removed['psd_raw']\n",
    "y = removed['label']\n",
    "X_train, X_test, y_train, y_test = train_test_split(X, y, test_size=0.2, random_state=42)\n",
    "clf = XGBClassifier(seed=42)\n",
    "clf.fit(X_train, y_train)\n",
    "y_pred_rf = clf.predict(X_test)\n",
    "y_pred_train = clf.predict(X_train)\n",
    "print('Train accuracy', accuracy_score(y_train, y_pred_train))\n",
    "print('Accuracy', accuracy_score(y_test, y_pred_rf))\n",
    "print('Precision', precision_score(y_test, y_pred_rf))\n",
    "print('Recall', recall_score(y_test, y_pred_rf))"
   ]
  },
  {
   "cell_type": "code",
   "execution_count": null,
   "metadata": {},
   "outputs": [],
   "source": []
  },
  {
   "cell_type": "code",
   "execution_count": null,
   "metadata": {},
   "outputs": [],
   "source": []
  },
  {
   "cell_type": "code",
   "execution_count": null,
   "metadata": {},
   "outputs": [],
   "source": [
    "import pickle\n",
    "results = pickle.load(open(\"results.pkl\", \"rb\"))"
   ]
  },
  {
   "cell_type": "code",
   "execution_count": null,
   "metadata": {},
   "outputs": [],
   "source": [
    "for key, bt in results[\"bt\"].allresults.items():\n",
    "    print(key)\n",
    "    print(bt.loc[\n",
    "        bt['Test Accuracy'].idxmax()\n",
    "    ])"
   ]
  },
  {
   "cell_type": "code",
   "execution_count": null,
   "metadata": {},
   "outputs": [],
   "source": [
    "for key, rf in results[\"rf\"].allresults.items():\n",
    "    print(key)\n",
    "    print(rf.loc[\n",
    "        rf['Test Accuracy'].idxmax()\n",
    "    ])"
   ]
  },
  {
   "cell_type": "code",
   "execution_count": null,
   "metadata": {},
   "outputs": [],
   "source": []
  },
  {
   "cell_type": "code",
   "execution_count": null,
   "metadata": {},
   "outputs": [],
   "source": []
  },
  {
   "cell_type": "code",
   "execution_count": null,
   "metadata": {},
   "outputs": [],
   "source": []
  }
 ],
 "metadata": {
  "kernelspec": {
   "display_name": "Python 3",
   "language": "python",
   "name": "python3"
  },
  "language_info": {
   "codemirror_mode": {
    "name": "ipython",
    "version": 3
   },
   "file_extension": ".py",
   "mimetype": "text/x-python",
   "name": "python",
   "nbconvert_exporter": "python",
   "pygments_lexer": "ipython3",
   "version": "3.7.4"
  }
 },
 "nbformat": 4,
 "nbformat_minor": 4
}
